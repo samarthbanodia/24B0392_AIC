{
 "cells": [
  {
   "cell_type": "markdown",
   "metadata": {},
   "source": [
    "RAG OVER PDF - GUI Using Streamlit "
   ]
  },
  {
   "cell_type": "markdown",
   "metadata": {},
   "source": [
    "Import Librarries and Packages\n",
    "\n",
    "Recrusive character text splitter  - Chunking text\n",
    "\n",
    "OpenAi(embeddings) , Deepseek(answer generation) models\n",
    "\n",
    "FAISS - vector db\n",
    "\n",
    "Prompt Template for formating prompt\n",
    "\n",
    "Pdf reader"
   ]
  },
  {
   "cell_type": "code",
   "execution_count": null,
   "metadata": {},
   "outputs": [],
   "source": [
    "from langchain.text_splitter import RecursiveCharacterTextSplitter \n",
    "from langchain_openai import OpenAIEmbeddings, ChatOpenAI\n",
    "from langchain_deepseek import ChatDeepSeek\n",
    "from langchain_community.vectorstores import FAISS\n",
    "from langchain_core.prompts import PromptTemplate\n",
    "from PyPDF2 import PdfReader"
   ]
  },
  {
   "cell_type": "markdown",
   "metadata": {},
   "source": [
    "Extracting Document Text function"
   ]
  },
  {
   "cell_type": "code",
   "execution_count": null,
   "metadata": {},
   "outputs": [],
   "source": [
    "def get_pdf_content(documents):\n",
    "    raw_text = \"\"\n",
    "\n",
    "    for document in documents:\n",
    "        pdf_reader = PdfReader(document)\n",
    "        for page in pdf_reader.pages:\n",
    "            raw_text += page.extract_text()\n",
    "\n",
    "    return raw_text\n"
   ]
  },
  {
   "cell_type": "markdown",
   "metadata": {},
   "source": [
    "Chunking text using RecursiveCharacterTextSplitter"
   ]
  },
  {
   "cell_type": "code",
   "execution_count": null,
   "metadata": {},
   "outputs": [],
   "source": [
    "def get_chunks(text):\n",
    "    splitter = RecursiveCharacterTextSplitter(chunk_size=1000, chunk_overlap=200)\n",
    "    chunks = splitter.create_documents([text])\n",
    "    return chunks\n"
   ]
  },
  {
   "cell_type": "markdown",
   "metadata": {},
   "source": [
    "Get Embeddings using openai embedding-3 model and store in FAISS"
   ]
  },
  {
   "cell_type": "code",
   "execution_count": null,
   "metadata": {},
   "outputs": [],
   "source": [
    "def get_embeddings_openai(chunks):\n",
    "    embeddings = OpenAIEmbeddings(\n",
    "        api_key = 'api_key',\n",
    "        model=\"text-embedding-3-small\")\n",
    "    vector_store = FAISS.from_documents(chunks, embeddings)\n",
    "    return vector_store"
   ]
  },
  {
   "cell_type": "markdown",
   "metadata": {},
   "source": [
    "Retrieve Top-k(=4) queries using similarity search on vector store"
   ]
  },
  {
   "cell_type": "code",
   "execution_count": null,
   "metadata": {},
   "outputs": [],
   "source": [
    "def top_k_queries(vector_store):\n",
    "    retriever = vector_store.as_retriever(search_type=\"similarity\", search_kwargs={\"k\": 4})\n",
    "    return retriever"
   ]
  },
  {
   "cell_type": "markdown",
   "metadata": {},
   "source": [
    "Initialising Deepseek LLM"
   ]
  },
  {
   "cell_type": "code",
   "execution_count": null,
   "metadata": {},
   "outputs": [],
   "source": [
    "llm = ChatDeepSeek(\n",
    "    api_key='api_key',\n",
    "    model=\"deepseek-chat\",\n",
    "    temperature=0.2,\n",
    "    max_tokens=None,\n",
    "    timeout=None,\n",
    "    max_retries=2,\n",
    ")"
   ]
  },
  {
   "cell_type": "markdown",
   "metadata": {},
   "source": [
    "Prompt Template for the LLM"
   ]
  },
  {
   "cell_type": "code",
   "execution_count": null,
   "metadata": {},
   "outputs": [],
   "source": [
    "prompt = PromptTemplate(\n",
    "    template=\"\"\"\n",
    "      You are a helpful assistant.\n",
    "      Answer ONLY from understandingthe provided transcript context and the conversation history.\n",
    "      If the context and history are insufficient, just say you don't know.\n",
    "\n",
    "      {context}\n",
    "\n",
    "      Question: {question}\n",
    "    \"\"\",\n",
    "    input_variables = ['context','question']\n",
    ")"
   ]
  },
  {
   "cell_type": "markdown",
   "metadata": {},
   "source": [
    "Basic Streamlit GUI for conversations "
   ]
  },
  {
   "cell_type": "code",
   "execution_count": null,
   "metadata": {},
   "outputs": [],
   "source": [
    "import streamlit as st\n",
    "\n",
    "st.title(\"RAG PDF Chatbot- Q2\")\n",
    "\n",
    "uploaded_file = st.file_uploader(\"Choose a PDF file\", type=\"pdf\")\n",
    "if uploaded_file is not None:\n",
    "\n",
    "    text = get_pdf_content([uploaded_file])  #get text\n",
    "    split_text = get_chunks(text) #get chunks \n",
    "    st.write(\"PDF text split in to chunks.\") #progress print\n",
    "    embedding_index = get_embeddings_openai(split_text) #get embeddings\n",
    "    similar_chunks = top_k_queries(embedding_index) # initialise thr similarity search \n",
    "\n",
    "    st.write(\"embedding peformed on chunks.\")\n",
    "    st.write(\"PDF text extracted. You can now ask questions.\")\n",
    "\n",
    "    user_question = st.text_input(\"Ask a question about the PDF:\")\n",
    "\n",
    "    if user_question: \n",
    "        retrieved_docs = similar_chunks.invoke(user_question) #invoke the SS for the question\n",
    "        context_text = \"\\n\\n\".join(doc.page_content for doc in retrieved_docs) #join the retrieved top queries \n",
    "        \n",
    "          \n",
    "        final_prompt = prompt.invoke({\n",
    "            \"context\": context_text,\n",
    "            \"question\": user_question\n",
    "        }) #make final prompt \n",
    "\n",
    "        answer = llm.invoke(final_prompt) #get answer from deepseek\n",
    "        \n",
    "        st.write(f\"Answer: {answer.content}\") #display the answer in the GUI\n",
    "        print(st.session_state.history)\n",
    "        # print(history_string)\n"
   ]
  },
  {
   "cell_type": "code",
   "execution_count": null,
   "metadata": {},
   "outputs": [],
   "source": []
  }
 ],
 "metadata": {
  "kernelspec": {
   "display_name": "Python 3 (ipykernel)",
   "language": "python",
   "name": "python3"
  },
  "language_info": {
   "codemirror_mode": {
    "name": "ipython",
    "version": 3
   },
   "file_extension": ".py",
   "mimetype": "text/x-python",
   "name": "python",
   "nbconvert_exporter": "python",
   "pygments_lexer": "ipython3",
   "version": "3.10.12"
  }
 },
 "nbformat": 4,
 "nbformat_minor": 4
}
