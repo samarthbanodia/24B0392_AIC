{
 "cells": [
  {
   "cell_type": "markdown",
   "metadata": {
    "id": "SldJF2ow9gsj"
   },
   "source": [
    "Importing Libraries\n",
    "\n",
    "transfoermer - huggingface library for loading the BERT model and tokenizer\n",
    "\n",
    "datasets for making tf.data pipelines\n",
    "\n",
    "spacy for lemmitization and nltk for stopword removal\n"
   ]
  },
  {
   "cell_type": "code",
   "execution_count": 11,
   "metadata": {
    "id": "e7QGVnFF9kuc"
   },
   "outputs": [],
   "source": [
    "import tensorflow as tf\n",
    "from transformers import TFAutoModel, AutoTokenizer\n",
    "from datasets import load_dataset , Dataset\n",
    "import pandas as pd\n",
    "import spacy\n",
    "from nltk.corpus import stopwords\n",
    "import re\n",
    "import nltk\n"
   ]
  },
  {
   "cell_type": "markdown",
   "metadata": {
    "id": "aR0fagNY957V"
   },
   "source": [
    "Initialising the model and tokenizer instance for bert base model"
   ]
  },
  {
   "cell_type": "code",
   "execution_count": 12,
   "metadata": {
    "id": "-o2NYvz_95ui"
   },
   "outputs": [
    {
     "name": "stderr",
     "output_type": "stream",
     "text": [
      "Some weights of the PyTorch model were not used when initializing the TF 2.0 model TFBertModel: ['cls.seq_relationship.weight', 'cls.predictions.transform.LayerNorm.weight', 'cls.predictions.bias', 'cls.seq_relationship.bias', 'cls.predictions.transform.dense.weight', 'cls.predictions.transform.LayerNorm.bias', 'cls.predictions.transform.dense.bias']\n",
      "- This IS expected if you are initializing TFBertModel from a PyTorch model trained on another task or with another architecture (e.g. initializing a TFBertForSequenceClassification model from a BertForPreTraining model).\n",
      "- This IS NOT expected if you are initializing TFBertModel from a PyTorch model that you expect to be exactly identical (e.g. initializing a TFBertForSequenceClassification model from a BertForSequenceClassification model).\n",
      "All the weights of TFBertModel were initialized from the PyTorch model.\n",
      "If your task is similar to the task the model of the checkpoint was trained on, you can already use TFBertModel for predictions without further training.\n"
     ]
    }
   ],
   "source": [
    "model = TFAutoModel.from_pretrained(\"bert-base-uncased\")\n",
    "\n",
    "tokenizer = AutoTokenizer.from_pretrained(\"bert-base-uncased\")"
   ]
  },
  {
   "cell_type": "markdown",
   "metadata": {
    "id": "croMKcle-IT3"
   },
   "source": [
    "preprocessing funtion for the Text in the dataset"
   ]
  },
  {
   "cell_type": "code",
   "execution_count": 13,
   "metadata": {
    "id": "fAiZN-76-NC0"
   },
   "outputs": [
    {
     "name": "stderr",
     "output_type": "stream",
     "text": [
      "[nltk_data] Downloading package stopwords to /home/sm4th/nltk_data...\n",
      "[nltk_data]   Package stopwords is already up-to-date!\n"
     ]
    }
   ],
   "source": [
    "nlp = spacy.load(\"en_core_web_sm\")\n",
    "nltk.download('stopwords')\n",
    "\n",
    "stop_words = set(stopwords.words(\"english\"))\n",
    "\n",
    "def preprocess_text(text):\n",
    "    text = text.lower()\n",
    "    text = re.sub(r\"[^a-zA-Z\\s]\", \"\", text) #lower casing and remove special characters using regex\n",
    "\n",
    "\n",
    "    doc = nlp(text)\n",
    "\n",
    "    lemmatized = [token.lemma_ for token in doc if token.is_alpha] #lemmitization\n",
    "\n",
    "    filtered = [word for word in lemmatized if word not in stop_words and len(word) > 2] #stopword removal\n",
    "\n",
    "\n",
    "    return \" \".join(filtered)"
   ]
  },
  {
   "cell_type": "markdown",
   "metadata": {
    "id": "oHsWnwWk-dVa"
   },
   "source": [
    "Preparing the pandas dataframe"
   ]
  },
  {
   "cell_type": "code",
   "execution_count": 14,
   "metadata": {
    "id": "_gIuUNHv-fyZ"
   },
   "outputs": [
    {
     "name": "stdout",
     "output_type": "stream",
     "text": [
      "     Category                                               Text  \\\n",
      "0  Accountant  education omba executive leadership university...   \n",
      "1  Accountant  howard gerrard accountant deyjobcom birmingham...   \n",
      "2  Accountant  kevin frank senior accountant inforesumekraftc...   \n",
      "3  Accountant  place birth nationality olivia ogilvy accounta...   \n",
      "4  Accountant  stephen greet cpa senior accountant year exper...   \n",
      "5  Accountant  marie anderson sometown masomedomaincom linked...   \n",
      "6  Accountant  carole chun kismis singapore supportresumeedge...   \n",
      "7  Accountant  anna gunther senior accountant annanovoresumec...   \n",
      "8  Accountant  first last cost accountant new york city first...   \n",
      "9  Accountant  robert smith associate accountant phone email ...   \n",
      "\n",
      "   encoded_categories  \n",
      "0                   0  \n",
      "1                   0  \n",
      "2                   0  \n",
      "3                   0  \n",
      "4                   0  \n",
      "5                   0  \n",
      "6                   0  \n",
      "7                   0  \n",
      "8                   0  \n",
      "9                   0  \n"
     ]
    }
   ],
   "source": [
    "df = pd.read_csv(\"train.csv\")\n",
    "df[\"Text\"] = df[\"Text\"].apply(preprocess_text)\n",
    "\n",
    "\n",
    "df['encoded_categories'] = df['Category'].astype('category').cat.codes #converting the categories into one encodings for model training\n",
    "print(df.head(10))\n",
    "\n",
    "data_text = df['Text'].to_list() #converting to list for tokenisation and splitting\n",
    "data_labels = df['encoded_categories'].to_list()"
   ]
  },
  {
   "cell_type": "markdown",
   "metadata": {
    "id": "6GwtC2GU-4Go"
   },
   "source": [
    "Splitting into Train , Test and Validation sets\n",
    "\n",
    "first split - 90% train and 10%validation\n",
    "second split - 10% of train --> test set"
   ]
  },
  {
   "cell_type": "code",
   "execution_count": 15,
   "metadata": {
    "id": "UtULtQMV-9V_"
   },
   "outputs": [],
   "source": [
    "from sklearn.model_selection import train_test_split\n",
    "\n",
    "train_text , val_text , train_labels , val_labels = train_test_split(data_text, data_labels, test_size  = 0.1 , random_state = 0)\n",
    "\n",
    "train_text , test_text , train_labels , test_labels = train_test_split(train_text, train_labels , test_size =0.1, random_state = 0)"
   ]
  },
  {
   "cell_type": "markdown",
   "metadata": {
    "id": "PmUwCqP1_Uw8"
   },
   "source": [
    "Tokenize each set , this outputs tensorflow tensors .\n",
    "\n",
    "Tokenizer adds input_ids, attention_maks\n",
    "\n",
    "\n",
    "padding and truncation are True as we want padding for token less than required size and truncation for token more than required size"
   ]
  },
  {
   "cell_type": "code",
   "execution_count": 16,
   "metadata": {
    "id": "Vzrwt-u7_eMR"
   },
   "outputs": [],
   "source": [
    "train_encodings = tokenizer(train_text, padding=True, truncation=True, return_tensors='tf')\n",
    "validation_encodings = tokenizer(val_text, padding=True, truncation =True, return_tensors = 'tf')\n",
    "test_encodings = tokenizer(test_text, padding=True, truncation=True, return_tensors='tf')"
   ]
  },
  {
   "cell_type": "markdown",
   "metadata": {
    "id": "6qe5KHof_rSS"
   },
   "source": [
    "Convert labels to tensors\n",
    "\n",
    "needed for tf training format"
   ]
  },
  {
   "cell_type": "code",
   "execution_count": 17,
   "metadata": {
    "id": "IUewg0lk_vVH"
   },
   "outputs": [],
   "source": [
    "train_labels = tf.convert_to_tensor(train_labels, dtype=tf.int64)\n",
    "val_labels = tf.convert_to_tensor(val_labels, dtype=tf.int64)\n",
    "test_labels = tf.convert_to_tensor(test_labels, dtype=tf.int64)"
   ]
  },
  {
   "cell_type": "markdown",
   "metadata": {
    "id": "iGnkK1SJ_0Vr"
   },
   "source": [
    "Create tf Datasets , input pipeline\n",
    "\n",
    "set batch size = 8 due to computational limitations\n",
    "\n",
    "shuffle is for randomising on each epoch"
   ]
  },
  {
   "cell_type": "code",
   "execution_count": 18,
   "metadata": {
    "id": "jqu70hOc_3Kn"
   },
   "outputs": [],
   "source": [
    "train_dataset = tf.data.Dataset.from_tensor_slices((\n",
    "    {\n",
    "        'input_ids': train_encodings['input_ids'],\n",
    "        'attention_mask': train_encodings['attention_mask'],\n",
    "        'token_type_ids': train_encodings['token_type_ids'],\n",
    "    },\n",
    "    train_labels\n",
    ")).shuffle(1000).batch(4)\n",
    "\n",
    "test_dataset = tf.data.Dataset.from_tensor_slices((\n",
    "    {\n",
    "        'input_ids': test_encodings['input_ids'],\n",
    "        'attention_mask': test_encodings['attention_mask'],\n",
    "        'token_type_ids': test_encodings['token_type_ids'],\n",
    "    },\n",
    "    test_labels\n",
    ")).batch(4)\n",
    "\n",
    "validation_dataset = tf.data.Dataset.from_tensor_slices((\n",
    "    {\n",
    "        'input_ids': validation_encodings['input_ids'],\n",
    "        'attention_mask': validation_encodings['attention_mask'],\n",
    "        'token_type_ids': validation_encodings['token_type_ids'],\n",
    "    },\n",
    "    val_labels\n",
    ")).batch(4)"
   ]
  },
  {
   "cell_type": "markdown",
   "metadata": {
    "id": "ytjFa4z6AGM0"
   },
   "source": [
    "Define a BERT Classifier with a FC layer at end using softmax activation"
   ]
  },
  {
   "cell_type": "code",
   "execution_count": 19,
   "metadata": {
    "id": "EnGjfMlLAH7A"
   },
   "outputs": [],
   "source": [
    "class BERTForClassification(tf.keras.Model):\n",
    "\n",
    "    def __init__(self, bert_model, num_classes):\n",
    "        super().__init__()\n",
    "        self.bert = bert_model\n",
    "        self.fc = tf.keras.layers.Dense(num_classes, activation='softmax')\n",
    "\n",
    "    def call(self, inputs):\n",
    "        x = self.bert(inputs)[1]\n",
    "        return self.fc(x)\n",
    "\n",
    "classifier = BERTForClassification(model, num_classes=43)"
   ]
  },
  {
   "cell_type": "markdown",
   "metadata": {
    "id": "0wtNjn27AQdC"
   },
   "source": [
    "Compiling and Training"
   ]
  },
  {
   "cell_type": "code",
   "execution_count": 20,
   "metadata": {
    "id": "aKnB0CH0ATVJ"
   },
   "outputs": [
    {
     "name": "stdout",
     "output_type": "stream",
     "text": [
      "Epoch 1/3\n"
     ]
    },
    {
     "name": "stderr",
     "output_type": "stream",
     "text": [
      "WARNING: All log messages before absl::InitializeLog() is called are written to STDERR\n",
      "I0000 00:00:1748439787.840150   28438 service.cc:152] XLA service 0x779550ce0b20 initialized for platform CUDA (this does not guarantee that XLA will be used). Devices:\n",
      "I0000 00:00:1748439787.840170   28438 service.cc:160]   StreamExecutor device (0): NVIDIA GeForce RTX 4060 Laptop GPU, Compute Capability 8.9\n",
      "2025-05-28 19:13:07.851274: I tensorflow/compiler/mlir/tensorflow/utils/dump_mlir_util.cc:269] disabling MLIR crash reproducer, set env var `MLIR_CRASH_REPRODUCER_DIRECTORY` to enable.\n",
      "I0000 00:00:1748439787.876818   28438 cuda_dnn.cc:529] Loaded cuDNN version 90300\n",
      "I0000 00:00:1748439788.004716   28438 device_compiler.h:188] Compiled cluster using XLA!  This line is logged at most once for the lifetime of the process.\n"
     ]
    },
    {
     "name": "stdout",
     "output_type": "stream",
     "text": [
      "2712/2712 [==============================] - 829s 295ms/step - loss: 1.3183 - accuracy: 0.6964 - val_loss: 0.5886 - val_accuracy: 0.8641\n",
      "Epoch 2/3\n",
      "2712/2712 [==============================] - 792s 292ms/step - loss: 0.4300 - accuracy: 0.8970 - val_loss: 0.5329 - val_accuracy: 0.8738\n",
      "Epoch 3/3\n",
      "2712/2712 [==============================] - 792s 292ms/step - loss: 0.2874 - accuracy: 0.9285 - val_loss: 0.4607 - val_accuracy: 0.8902\n"
     ]
    }
   ],
   "source": [
    "classifier.compile(\n",
    "    optimizer=tf.keras.optimizers.Adam(learning_rate=1e-5),\n",
    "    loss=tf.keras.losses.SparseCategoricalCrossentropy(),\n",
    "    metrics=['accuracy']\n",
    ")\n",
    "\n",
    "history = classifier.fit(\n",
    "    train_dataset,\n",
    "    validation_data = validation_dataset,\n",
    "    epochs=3\n",
    ")"
   ]
  },
  {
   "cell_type": "markdown",
   "metadata": {
    "id": "xlt6z0i-Aasy"
   },
   "source": [
    "Plot training/validation accuracy and loss curves"
   ]
  },
  {
   "cell_type": "code",
   "execution_count": 21,
   "metadata": {
    "id": "i84iigmhAYKi"
   },
   "outputs": [
    {
     "data": {
      "image/png": "[encoded data removed]",
      "text/plain": [
       "<Figure size 1400x500 with 2 Axes>"
      ]
     },
     "metadata": {},
     "output_type": "display_data"
    }
   ],
   "source": [
    "import matplotlib.pyplot as plt\n",
    "import numpy\n",
    "\n",
    "# Plot training & validation loss and accuracy\n",
    "plt.figure(figsize=(14, 5))\n",
    "\n",
    "# Loss\n",
    "plt.subplot(1, 2, 1)\n",
    "plt.plot(history.history['loss'], label='Training Loss')\n",
    "plt.plot(history.history['val_loss'], label='Validation Loss')\n",
    "plt.title('Loss over Epochs')\n",
    "plt.xlabel('Epoch')\n",
    "plt.ylabel('Loss')\n",
    "plt.legend()\n",
    "\n",
    "# Accuracy\n",
    "plt.subplot(1, 2, 2)\n",
    "plt.plot(history.history['accuracy'], label='Training Accuracy')\n",
    "plt.plot(history.history['val_accuracy'], label='Validation Accuracy')\n",
    "plt.title('Accuracy over Epochs')\n",
    "plt.xlabel('Epoch')\n",
    "plt.ylabel('Accuracy')\n",
    "plt.legend()\n",
    "\n",
    "plt.tight_layout()\n",
    "plt.show()\n"
   ]
  },
  {
   "cell_type": "markdown",
   "metadata": {
    "id": "MOkhPzi0AgdB"
   },
   "source": [
    "Final Evaluation on test Dataset"
   ]
  },
  {
   "cell_type": "code",
   "execution_count": 22,
   "metadata": {
    "id": "yvZHNiRyAiAr"
   },
   "outputs": [
    {
     "name": "stdout",
     "output_type": "stream",
     "text": [
      "302/302 [==============================] - 31s 102ms/step - loss: 0.4551 - accuracy: 0.8896\n"
     ]
    },
    {
     "data": {
      "text/plain": [
       "[0.4550763666629791, 0.8896265625953674]"
      ]
     },
     "execution_count": 22,
     "metadata": {},
     "output_type": "execute_result"
    }
   ],
   "source": [
    "classifier.evaluate(test_dataset)\n"
   ]
  },
  {
   "cell_type": "markdown",
   "metadata": {
    "id": "kqYUb514AjHX"
   },
   "source": [
    "Classification Report\n",
    "\n",
    "Precision = TP / (TP + FP)\n",
    "\n",
    "Recall = TP / (TP + FN)\n",
    "\n",
    "F1-score = harmonic mean of precision and recall\n",
    "\n",
    "Support = number of true examples for each class"
   ]
  },
  {
   "cell_type": "code",
   "execution_count": 23,
   "metadata": {
    "id": "PWwYYQAuAlSI"
   },
   "outputs": [
    {
     "name": "stdout",
     "output_type": "stream",
     "text": [
      "              precision    recall  f1-score   support\n",
      "\n",
      "           0     1.0000    0.9394    0.9688        33\n",
      "           1     0.9200    0.8846    0.9020        26\n",
      "           2     1.0000    0.8182    0.9000        22\n",
      "           3     0.9091    0.7143    0.8000        28\n",
      "           4     0.9091    0.7692    0.8333        26\n",
      "           5     0.7500    1.0000    0.8571        24\n",
      "           6     0.8929    0.8333    0.8621        30\n",
      "           7     1.0000    0.9355    0.9667        31\n",
      "           8     0.7500    0.7826    0.7660        23\n",
      "           9     1.0000    0.9688    0.9841        32\n",
      "          10     0.0000    0.0000    0.0000         1\n",
      "          11     0.8621    1.0000    0.9259        25\n",
      "          12     0.8684    0.9429    0.9041        35\n",
      "          13     0.9667    0.9667    0.9667        30\n",
      "          14     0.8462    0.7333    0.7857        30\n",
      "          15     0.8462    0.8800    0.8627        25\n",
      "          16     1.0000    0.6667    0.8000        18\n",
      "          17     0.9643    0.7941    0.8710        34\n",
      "          18     0.9583    0.9583    0.9583        24\n",
      "          19     1.0000    0.9474    0.9730        38\n",
      "          20     0.8261    0.8636    0.8444        22\n",
      "          21     0.7500    0.7778    0.7636        27\n",
      "          22     0.9189    0.8718    0.8947        39\n",
      "          23     1.0000    0.9722    0.9859        36\n",
      "          24     0.9444    0.8947    0.9189        38\n",
      "          25     0.7778    0.9333    0.8485        15\n",
      "          26     0.9189    0.9714    0.9444        35\n",
      "          27     0.9375    0.9375    0.9375        32\n",
      "          28     0.9524    0.9091    0.9302        22\n",
      "          29     0.9524    0.8696    0.9091        23\n",
      "          30     0.7955    0.9459    0.8642        37\n",
      "          31     0.9231    0.9730    0.9474        37\n",
      "          32     0.9167    0.9706    0.9429        34\n",
      "          33     0.9130    0.8750    0.8936        24\n",
      "          34     0.9333    0.9333    0.9333        30\n",
      "          35     0.8438    1.0000    0.9153        27\n",
      "          36     0.7500    0.7778    0.7636        27\n",
      "          37     0.5556    0.3571    0.4348        14\n",
      "          38     0.8788    1.0000    0.9355        29\n",
      "          39     0.7059    0.9600    0.8136        25\n",
      "          40     0.7857    0.7857    0.7857        42\n",
      "          41     1.0000    0.9688    0.9841        32\n",
      "          42     0.8000    0.8696    0.8333        23\n",
      "\n",
      "    accuracy                         0.8896      1205\n",
      "   macro avg     0.8656    0.8594    0.8584      1205\n",
      "weighted avg     0.8939    0.8896    0.8883      1205\n",
      "\n"
     ]
    },
    {
     "name": "stderr",
     "output_type": "stream",
     "text": [
      "2025-05-28 19:54:08.254341: I tensorflow/core/framework/local_rendezvous.cc:407] Local rendezvous is aborting with status: OUT_OF_RANGE: End of sequence\n",
      "/home/sm4th/.local/lib/python3.10/site-packages/sklearn/metrics/_classification.py:1565: UndefinedMetricWarning: Precision is ill-defined and being set to 0.0 in labels with no predicted samples. Use `zero_division` parameter to control this behavior.\n",
      "  _warn_prf(average, modifier, f\"{metric.capitalize()} is\", len(result))\n",
      "/home/sm4th/.local/lib/python3.10/site-packages/sklearn/metrics/_classification.py:1565: UndefinedMetricWarning: Precision is ill-defined and being set to 0.0 in labels with no predicted samples. Use `zero_division` parameter to control this behavior.\n",
      "  _warn_prf(average, modifier, f\"{metric.capitalize()} is\", len(result))\n",
      "/home/sm4th/.local/lib/python3.10/site-packages/sklearn/metrics/_classification.py:1565: UndefinedMetricWarning: Precision is ill-defined and being set to 0.0 in labels with no predicted samples. Use `zero_division` parameter to control this behavior.\n",
      "  _warn_prf(average, modifier, f\"{metric.capitalize()} is\", len(result))\n"
     ]
    }
   ],
   "source": [
    "from sklearn.metrics import classification_report\n",
    "\n",
    "y_pred_list = [] #predicted labels\n",
    "y_true_list = [] #true labels\n",
    "\n",
    "for batch_inputs, batch_labels in test_dataset: #in batch for memory efficiency\n",
    "    logits = classifier(batch_inputs, training=False) #gets prediction for each abtch\n",
    "    batch_predictions = tf.argmax(logits, axis=1).numpy()\n",
    "    y_pred_list.extend(batch_predictions)\n",
    "    y_true_list.extend(batch_labels.numpy())\n",
    "\n",
    "y_pred = numpy.array(y_pred_list)\n",
    "y_true = numpy.array(y_true_list)\n",
    "\n",
    "\n",
    "print(classification_report(y_true, y_pred, digits=4))\n"
   ]
  },
  {
   "cell_type": "code",
   "execution_count": null,
   "metadata": {},
   "outputs": [],
   "source": []
  }
 ],
 "metadata": {
  "colab": {
   "provenance": []
  },
  "kernelspec": {
   "display_name": "Python 3 (ipykernel)",
   "language": "python",
   "name": "python3"
  },
  "language_info": {
   "codemirror_mode": {
    "name": "ipython",
    "version": 3
   },
   "file_extension": ".py",
   "mimetype": "text/x-python",
   "name": "python",
   "nbconvert_exporter": "python",
   "pygments_lexer": "ipython3",
   "version": "3.10.12"
  }
 },
 "nbformat": 4,
 "nbformat_minor": 4
}
